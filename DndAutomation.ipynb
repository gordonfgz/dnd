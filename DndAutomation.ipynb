{
 "cells": [
  {
   "cell_type": "code",
   "execution_count": 2,
   "metadata": {},
   "outputs": [
    {
     "name": "stdin",
     "output_type": "stream",
     "text": [
      "Enter [beast] [attack] [count] [adv/disadv/none]:  giantvulture multi 8 adv\n"
     ]
    },
    {
     "name": "stdout",
     "output_type": "stream",
     "text": [
      "Input: giantvulture multi 8 adv\n",
      "*Generating Giant Vulture MultiAttacks*\n"
     ]
    },
    {
     "ename": "NameError",
     "evalue": "name 'diceRolls' is not defined",
     "output_type": "error",
     "traceback": [
      "\u001b[0;31m---------------------------------------------------------------------------\u001b[0m",
      "\u001b[0;31mNameError\u001b[0m                                 Traceback (most recent call last)",
      "File \u001b[0;32m/private/var/mobile/Library/Mobile Documents/iCloud~AsheKube~Carnets/Documents/DNDScripts/ConjureAnimalsAutomation.py:36\u001b[0m\n\u001b[1;32m     34\u001b[0m     BeastAttacks\u001b[38;5;241m.\u001b[39mgetElkAttack(attack, count, adv)\n\u001b[1;32m     35\u001b[0m \u001b[38;5;28;01melif\u001b[39;00m (beast \u001b[38;5;241m==\u001b[39m \u001b[38;5;124m\"\u001b[39m\u001b[38;5;124mgiantvulture\u001b[39m\u001b[38;5;124m\"\u001b[39m):\n\u001b[0;32m---> 36\u001b[0m     \u001b[43mBeastAttacks\u001b[49m\u001b[38;5;241;43m.\u001b[39;49m\u001b[43mgetGiantVultureMultiAttack\u001b[49m\u001b[43m(\u001b[49m\u001b[43mcount\u001b[49m\u001b[43m,\u001b[49m\u001b[43m \u001b[49m\u001b[43madv\u001b[49m\u001b[43m)\u001b[49m\n\u001b[1;32m     37\u001b[0m \u001b[38;5;28;01melse\u001b[39;00m:\n\u001b[1;32m     38\u001b[0m     \u001b[38;5;28mprint\u001b[39m(\u001b[38;5;124mf\u001b[39m\u001b[38;5;124m\"\u001b[39m\u001b[38;5;124mBeast: \u001b[39m\u001b[38;5;132;01m{\u001b[39;00mbeast\u001b[38;5;132;01m}\u001b[39;00m\u001b[38;5;124m not recognised\u001b[39m\u001b[38;5;124m\"\u001b[39m)\n",
      "File \u001b[0;32m/private/var/mobile/Library/Mobile Documents/iCloud~AsheKube~Carnets/Documents/DNDScripts/BeastAttacks.py:123\u001b[0m, in \u001b[0;36mgetGiantVultureMultiAttack\u001b[0;34m(count, adv)\u001b[0m\n\u001b[1;32m    121\u001b[0m hitDice2 \u001b[38;5;241m=\u001b[39m DiceRolls\u001b[38;5;241m.\u001b[39mroll(\u001b[38;5;241m20\u001b[39m, adv)\n\u001b[1;32m    122\u001b[0m damageDice1 \u001b[38;5;241m=\u001b[39m DiceRolls\u001b[38;5;241m.\u001b[39mrollD(\u001b[38;5;241m4\u001b[39m) \u001b[38;5;241m+\u001b[39m DiceRolls\u001b[38;5;241m.\u001b[39mrollD(\u001b[38;5;241m4\u001b[39m) \u001b[38;5;241m+\u001b[39m \u001b[38;5;241m2\u001b[39m\n\u001b[0;32m--> 123\u001b[0m critDamage1 \u001b[38;5;241m=\u001b[39m calculateCritDamage(\u001b[38;5;241m2\u001b[39m, \u001b[43mdiceRolls\u001b[49m\u001b[38;5;241m.\u001b[39mrollD, \u001b[38;5;241m4\u001b[39m)\n\u001b[1;32m    124\u001b[0m damageDice2 \u001b[38;5;241m=\u001b[39m DiceRolls\u001b[38;5;241m.\u001b[39mrollD(\u001b[38;5;241m6\u001b[39m) \u001b[38;5;241m+\u001b[39m DiceRolls\u001b[38;5;241m.\u001b[39mrollD(\u001b[38;5;241m6\u001b[39m) \u001b[38;5;241m+\u001b[39m \u001b[38;5;241m2\u001b[39m\n\u001b[1;32m    125\u001b[0m critDamage2 \u001b[38;5;241m=\u001b[39m calculateCritDamage(\u001b[38;5;241m2\u001b[39m, diceRolls\u001b[38;5;241m.\u001b[39mrollD, \u001b[38;5;241m6\u001b[39m)\n",
      "\u001b[0;31mNameError\u001b[0m: name 'diceRolls' is not defined"
     ]
    }
   ],
   "source": [
    "run DNDScripts/ConjureAnimalsAutomation.py"
   ]
  },
  {
   "cell_type": "code",
   "execution_count": null,
   "metadata": {},
   "outputs": [],
   "source": []
  }
 ],
 "metadata": {
  "kernelspec": {
   "display_name": "Python 3 (ipykernel)",
   "language": "python",
   "name": "python3"
  },
  "language_info": {
   "codemirror_mode": {
    "name": "ipython",
    "version": 3
   },
   "file_extension": ".py",
   "mimetype": "text/x-python",
   "name": "python",
   "nbconvert_exporter": "python",
   "pygments_lexer": "ipython3",
   "version": "3.11.0"
  },
  "vscode": {
   "interpreter": {
    "hash": "31f2aee4e71d21fbe5cf8b01ff0e069b9275f58929596ceb00d14d90e3e16cd6"
   }
  }
 },
 "nbformat": 4,
 "nbformat_minor": 4
}
